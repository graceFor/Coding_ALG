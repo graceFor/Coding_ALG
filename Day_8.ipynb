{
  "nbformat": 4,
  "nbformat_minor": 0,
  "metadata": {
    "colab": {
      "name": "Untitled7.ipynb",
      "provenance": [],
      "authorship_tag": "ABX9TyN0W5oMiyXjd2VGcUHp24Tt",
      "include_colab_link": true
    },
    "kernelspec": {
      "name": "python3",
      "display_name": "Python 3"
    }
  },
  "cells": [
    {
      "cell_type": "markdown",
      "metadata": {
        "id": "view-in-github",
        "colab_type": "text"
      },
      "source": [
        "<a href=\"https://colab.research.google.com/github/gusrud12/Coding_ALG/blob/master/Day_8.ipynb\" target=\"_parent\"><img src=\"https://colab.research.google.com/assets/colab-badge.svg\" alt=\"Open In Colab\"/></a>"
      ]
    },
    {
      "cell_type": "markdown",
      "metadata": {
        "id": "9GjYCIGKbUnm",
        "colab_type": "text"
      },
      "source": [
        "# 10. 2^1000의 각 자리수를 모두 더하면?\n",
        "\n",
        "2^15 = 32768 의 각 자리수를 더하면 3 + 2 + 7 + 6 + 8 = 26 입니다.\n",
        "\n",
        "2^1000의 각 자리수를 모두 더하면 얼마입니까?"
      ]
    },
    {
      "cell_type": "code",
      "metadata": {
        "id": "w_KwYK8XbTMS",
        "colab_type": "code",
        "outputId": "3e69f82c-17fb-4ef1-e040-6fc882fd326e",
        "colab": {
          "base_uri": "https://localhost:8080/",
          "height": 34
        }
      },
      "source": [
        "result = 1\n",
        "for i in range(0, 1000):\n",
        "    result *= 2\n",
        " \n",
        "result = str(result)\n",
        "total = 0\n",
        "for i in result:\n",
        "    total += int(i)\n",
        " \n",
        "print(total)"
      ],
      "execution_count": 5,
      "outputs": [
        {
          "output_type": "stream",
          "text": [
            "1366\n"
          ],
          "name": "stdout"
        }
      ]
    }
  ]
}