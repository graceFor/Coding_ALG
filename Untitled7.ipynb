{
  "nbformat": 4,
  "nbformat_minor": 0,
  "metadata": {
    "colab": {
      "name": "Untitled7.ipynb",
      "provenance": [],
      "authorship_tag": "ABX9TyMxeZ5rwL97n9D9JQG4Sh2F",
      "include_colab_link": true
    },
    "kernelspec": {
      "name": "python3",
      "display_name": "Python 3"
    }
  },
  "cells": [
    {
      "cell_type": "markdown",
      "metadata": {
        "id": "view-in-github",
        "colab_type": "text"
      },
      "source": [
        "<a href=\"https://colab.research.google.com/github/gusrud12/Coding_ALG/blob/master/Untitled7.ipynb\" target=\"_parent\"><img src=\"https://colab.research.google.com/assets/colab-badge.svg\" alt=\"Open In Colab\"/></a>"
      ]
    },
    {
      "cell_type": "markdown",
      "metadata": {
        "id": "9GjYCIGKbUnm",
        "colab_type": "text"
      },
      "source": [
        "# 11. 500개 이상의 약수를 갖는 가장 작은 삼각수는?\n",
        "\n",
        "1부터 n까지의 자연수를 차례로 더하여 구해진 값을 삼각수라고 합니다.\n",
        "예를 들어 7번째 삼각수는 1 + 2 + 3 + 4 + 5 + 6 + 7 = 28이 됩니다.\n",
        "이런 식으로 삼각수를 구해 나가면 다음과 같습니다.\n",
        "\n",
        "1, 3, 6, 10, 15, 21, 28, 36, 45, 55, ...\n",
        "이 삼각수들의 약수를 구해봅시다.\n",
        "\n",
        " 1: 1\n",
        " 3: 1, 3\n",
        " 6: 1, 2, 3, 6\n",
        "10: 1, 2, 5, 10\n",
        "15: 1, 3, 5, 15\n",
        "21: 1, 3, 7, 21\n",
        "28: 1, 2, 4, 7, 14, 28\n",
        "위에서 보듯이, 5개 이상의 약수를 갖는 첫번째 삼각수는 28입니다.\n",
        "\n",
        "그러면 500개 이상의 약수를 갖는 가장 작은 삼각수는 얼마입니까?"
      ]
    },
    {
      "cell_type": "code",
      "metadata": {
        "id": "w_KwYK8XbTMS",
        "colab_type": "code",
        "colab": {}
      },
      "source": [
        "def getTriangleNum():\n",
        "    triangleNum= 28\n",
        "    next = 8\n",
        "    count= 0\n",
        "     \n",
        "    while True:\n",
        "        for i in range(1, triangleNum+1):\n",
        "            if triangleNum% i== 0:\n",
        "                count+= 1\n",
        "         \n",
        "        if count >= 500:\n",
        "            break\n",
        "             \n",
        "        count= 0\n",
        "        triangleNum+= next\n",
        "        next += 1\n",
        "     \n",
        "    return triangleNum\n",
        "     \n",
        " \n",
        "if __name__== \"__main__\":\n",
        "    Main_triangleNum= getTriangleNum()\n",
        "    print(Main_triangleNum)\n",
        "\n"
      ],
      "execution_count": 0,
      "outputs": []
    },
    {
      "cell_type": "code",
      "metadata": {
        "id": "-lIiNLkSVTZd",
        "colab_type": "code",
        "colab": {}
      },
      "source": [
        ""
      ],
      "execution_count": 0,
      "outputs": []
    }
  ]
}