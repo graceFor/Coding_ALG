{
  "nbformat": 4,
  "nbformat_minor": 0,
  "metadata": {
    "colab": {
      "name": "Day_2.ipynb",
      "provenance": [],
      "authorship_tag": "ABX9TyMNlLTMjp67ovUfYwLEsOs+",
      "include_colab_link": true
    },
    "kernelspec": {
      "name": "python3",
      "display_name": "Python 3"
    },
    "accelerator": "GPU"
  },
  "cells": [
    {
      "cell_type": "markdown",
      "metadata": {
        "id": "view-in-github",
        "colab_type": "text"
      },
      "source": [
        "<a href=\"https://colab.research.google.com/github/gusrud12/Coding_ALG/blob/master/Day_2.ipynb\" target=\"_parent\"><img src=\"https://colab.research.google.com/assets/colab-badge.svg\" alt=\"Open In Colab\"/></a>"
      ]
    },
    {
      "cell_type": "markdown",
      "metadata": {
        "id": "X9zSEAtgIhpN",
        "colab_type": "text"
      },
      "source": [
        "# 3. 가장 큰 소인수 구하기\n",
        "\n",
        "어떤 수를 소수의 곱으로만 나타내는 것을 소인수분해라 하고, 이 소수들을 그 수의 소인수라고 합니다.\n",
        "\n",
        "예를 들면 13195의 소인수는 5, 7, 13, 29 입니다.\n",
        "\n",
        "600851475143의 소인수 중에서 가장 큰 수를 구하세요."
      ]
    },
    {
      "cell_type": "code",
      "metadata": {
        "id": "W1-DUMt2HsvR",
        "colab_type": "code",
        "colab": {
          "base_uri": "https://localhost:8080/",
          "height": 34
        },
        "outputId": "31731cda-7fdc-45c1-a215-331bb2a46bfb"
      },
      "source": [
        "num = 600851475143\n",
        "i = 2\n",
        "result = 0\n",
        "\n",
        "while i <= num:\n",
        "    if(num % i == 0 ):\n",
        "        if (result < i ):\n",
        "            result = i\n",
        "        num /= i\n",
        "    else:\n",
        "        i += 1\n",
        "\n",
        "print(result)\n"
      ],
      "execution_count": 3,
      "outputs": [
        {
          "output_type": "stream",
          "text": [
            "6857\n"
          ],
          "name": "stdout"
        }
      ]
    },
    {
      "cell_type": "markdown",
      "metadata": {
        "colab_type": "text",
        "id": "xUdWh3b_O9gW"
      },
      "source": [
        "# 3. 세자리 수를 곱해 만들 수 있는 가장 큰 대칭수\n",
        "\n",
        "앞에서부터 읽을 때나 뒤에서부터 읽을 때나 모양이 같은 수를 대칭수(palindrome)라고 부릅니다.\n",
        "\n",
        "두 자리 수를 곱해 만들 수 있는 대칭수 중 가장 큰 수는 9009 (= 91 × 99) 입니다.\n",
        "\n",
        "세 자리 수를 곱해 만들 수 있는 가장 큰 대칭수는 얼마입니까?."
      ]
    },
    {
      "cell_type": "code",
      "metadata": {
        "id": "6e9pjHuKO6b-",
        "colab_type": "code",
        "colab": {
          "base_uri": "https://localhost:8080/",
          "height": 34
        },
        "outputId": "557b68e6-1b04-4c24-b58c-03cd1f679842"
      },
      "source": [
        "result = []\n",
        "\n",
        "for i in range(100,1000):\n",
        "    for j in range(100, 1000):\n",
        "        data = str(i * j)\n",
        "        if (len(data)%2 == 0):\n",
        "            for k in range(len(data)):\n",
        "                if (data[k] != data[-(k+1)]):\n",
        "                    break\n",
        "            else:       \n",
        "                result.append(int(data))\n",
        "        \n",
        "print(max(result))\n"
      ],
      "execution_count": 20,
      "outputs": [
        {
          "output_type": "stream",
          "text": [
            "906609\n"
          ],
          "name": "stdout"
        }
      ]
    }
  ]
}