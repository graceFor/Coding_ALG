{
  "nbformat": 4,
  "nbformat_minor": 0,
  "metadata": {
    "colab": {
      "name": "Untitled7.ipynb",
      "provenance": [],
      "authorship_tag": "ABX9TyP0eedcH9V4gxVn7I/ze50H",
      "include_colab_link": true
    },
    "kernelspec": {
      "name": "python3",
      "display_name": "Python 3"
    }
  },
  "cells": [
    {
      "cell_type": "markdown",
      "metadata": {
        "id": "view-in-github",
        "colab_type": "text"
      },
      "source": [
        "<a href=\"https://colab.research.google.com/github/gusrud12/Coding_ALG/blob/master/Day_5.ipynb\" target=\"_parent\"><img src=\"https://colab.research.google.com/assets/colab-badge.svg\" alt=\"Open In Colab\"/></a>"
      ]
    },
    {
      "cell_type": "markdown",
      "metadata": {
        "id": "9GjYCIGKbUnm",
        "colab_type": "text"
      },
      "source": [
        "# 7. a + b + c = 1000 이 되는 피타고라스 수\n",
        "\n",
        "세 자연수 a, b, c 가 피타고라스 정리 a^2 + b^2 = c^2 를 만족하면 피타고라스 수라고 부릅니다 (여기서 a < b < c ).\n",
        "예를 들면 32 + 42 = 9 + 16 = 25 = 52이므로 3, 4, 5는 피타고라스 수입니다.\n",
        "\n",
        "a + b + c = 1000 인 피타고라스 수 a, b, c는 한 가지 뿐입니다. 이 때, a × b × c 는 얼마입니까?"
      ]
    },
    {
      "cell_type": "code",
      "metadata": {
        "id": "w_KwYK8XbTMS",
        "colab_type": "code",
        "outputId": "1f8d81b9-a7c7-48b7-86cb-c8bb64f1347f",
        "colab": {
          "base_uri": "https://localhost:8080/",
          "height": 34
        }
      },
      "source": [
        "for a in range(1, 1000): \n",
        "    for b in range(a+1, 1000): \n",
        "        c = 1000 - a - b \n",
        "        if a*a + b*b == c*c and a < b < c: \n",
        "            print(a*b*c)\n",
        "\n",
        "\n"
      ],
      "execution_count": 1,
      "outputs": [
        {
          "output_type": "stream",
          "text": [
            "31875000\n"
          ],
          "name": "stdout"
        }
      ]
    }
  ]
}