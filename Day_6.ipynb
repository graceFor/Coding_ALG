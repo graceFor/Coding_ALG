{
  "nbformat": 4,
  "nbformat_minor": 0,
  "metadata": {
    "colab": {
      "name": "Untitled7.ipynb",
      "provenance": [],
      "authorship_tag": "ABX9TyMGNUpULsCJvuAbkh2ikgnl",
      "include_colab_link": true
    },
    "kernelspec": {
      "name": "python3",
      "display_name": "Python 3"
    }
  },
  "cells": [
    {
      "cell_type": "markdown",
      "metadata": {
        "id": "view-in-github",
        "colab_type": "text"
      },
      "source": [
        "<a href=\"https://colab.research.google.com/github/gusrud12/Coding_ALG/blob/master/Day_6.ipynb\" target=\"_parent\"><img src=\"https://colab.research.google.com/assets/colab-badge.svg\" alt=\"Open In Colab\"/></a>"
      ]
    },
    {
      "cell_type": "markdown",
      "metadata": {
        "id": "9GjYCIGKbUnm",
        "colab_type": "text"
      },
      "source": [
        "# 8. 100! 의 자리수를 모두 더하면?\n",
        "\n",
        "n! 이라는 표기법은 n × (n − 1) × ... × 3 × 2 × 1을 뜻합니다.\n",
        "\n",
        "예를 들자면 10! = 10 × 9 × ... × 3 × 2 × 1 = 3628800 이 되는데,\n",
        "여기서 10!의 각 자리수를 더해 보면 3 + 6 + 2 + 8 + 8 + 0 + 0 = 27 입니다.\n",
        "\n",
        "100! 의 자리수를 모두 더하면 얼마입니까?"
      ]
    },
    {
      "cell_type": "code",
      "metadata": {
        "id": "w_KwYK8XbTMS",
        "colab_type": "code",
        "outputId": "cd88cb43-f644-446a-9ca9-b4dcf5ad0aa1",
        "colab": {
          "base_uri": "https://localhost:8080/",
          "height": 34
        }
      },
      "source": [
        "import math\n",
        "\n",
        "def sum_fac(num) :\n",
        "    fac = str(math.factorial(num))\n",
        "    fac_sum = sum(int(i) for i in fac)\n",
        "\n",
        "    return fac_sum\n",
        "\n",
        "print(sum_fac(100))"
      ],
      "execution_count": 2,
      "outputs": [
        {
          "output_type": "stream",
          "text": [
            "648\n"
          ],
          "name": "stdout"
        }
      ]
    }
  ]
}