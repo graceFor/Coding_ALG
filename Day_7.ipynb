{
  "nbformat": 4,
  "nbformat_minor": 0,
  "metadata": {
    "colab": {
      "name": "Untitled7.ipynb",
      "provenance": [],
      "authorship_tag": "ABX9TyOdPYd+01pPkoIZSUkyDKCI",
      "include_colab_link": true
    },
    "kernelspec": {
      "name": "python3",
      "display_name": "Python 3"
    }
  },
  "cells": [
    {
      "cell_type": "markdown",
      "metadata": {
        "id": "view-in-github",
        "colab_type": "text"
      },
      "source": [
        "<a href=\"https://colab.research.google.com/github/gusrud12/Coding_ALG/blob/master/Day_7.ipynb\" target=\"_parent\"><img src=\"https://colab.research.google.com/assets/colab-badge.svg\" alt=\"Open In Colab\"/></a>"
      ]
    },
    {
      "cell_type": "markdown",
      "metadata": {
        "id": "9GjYCIGKbUnm",
        "colab_type": "text"
      },
      "source": [
        "# 9. 이백만 이하 소수의 합\n",
        "\n",
        "10 이하의 소수를 모두 더하면 2 + 3 + 5 + 7 = 17 이 됩니다.\n",
        "\n",
        "이백만(2,000,000) 이하 소수의 합은 얼마입니까?"
      ]
    },
    {
      "cell_type": "code",
      "metadata": {
        "id": "w_KwYK8XbTMS",
        "colab_type": "code",
        "outputId": "cf861fe2-d5a5-4d4a-9b04-ca38d96bfb4c",
        "colab": {
          "base_uri": "https://localhost:8080/",
          "height": 34
        }
      },
      "source": [
        "def is_prime_num(num) : \n",
        "    for i in range(2, int(num**0.5) + 1): \n",
        "        if num % i==0: \n",
        "            return False \n",
        "    return True \n",
        "def sum_prime_nums(range_to) : \n",
        "    prime_sum = 2+3+5+7 \n",
        "    for num in range(7, range_to+1) : \n",
        "        if num % 2 !=0 and num % 3 !=0 and num % 5 !=0 and num % 7 !=0 : \n",
        "           if is_prime_num(num) : \n",
        "               prime_sum = prime_sum + num \n",
        "        num += 2 \n",
        "    return prime_sum \n",
        "               \n",
        "print(sum_prime_nums(2000000))\n"
      ],
      "execution_count": 3,
      "outputs": [
        {
          "output_type": "stream",
          "text": [
            "142913828922\n"
          ],
          "name": "stdout"
        }
      ]
    }
  ]
}