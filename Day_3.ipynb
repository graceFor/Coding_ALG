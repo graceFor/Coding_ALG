{
  "nbformat": 4,
  "nbformat_minor": 0,
  "metadata": {
    "colab": {
      "name": "Day_3.ipynb",
      "provenance": [],
      "authorship_tag": "ABX9TyN7Obam+ZCGFRMqXPTEzmNc",
      "include_colab_link": true
    },
    "kernelspec": {
      "name": "python3",
      "display_name": "Python 3"
    }
  },
  "cells": [
    {
      "cell_type": "markdown",
      "metadata": {
        "id": "view-in-github",
        "colab_type": "text"
      },
      "source": [
        "<a href=\"https://colab.research.google.com/github/gusrud12/Coding_ALG/blob/master/Day_3.ipynb\" target=\"_parent\"><img src=\"https://colab.research.google.com/assets/colab-badge.svg\" alt=\"Open In Colab\"/></a>"
      ]
    },
    {
      "cell_type": "markdown",
      "metadata": {
        "id": "eYCk0tAumbJu",
        "colab_type": "text"
      },
      "source": [
        "# 5. 1 ~ 20 사이의 어떤 수로도 나누어 떨어지는 가장 작은 수\n",
        "\n",
        "1 ~ 10 사이의 어떤 수로도 나누어 떨어지는 가장 작은 수는 2520입니다.\n",
        "\n",
        "그러면 1 ~ 20 사이의 어떤 수로도 나누어 떨어지는 가장 작은 수는 얼마입니까?"
      ]
    },
    {
      "cell_type": "code",
      "metadata": {
        "id": "pqe9f_S7mZtK",
        "colab_type": "code",
        "colab": {
          "base_uri": "https://localhost:8080/",
          "height": 34
        },
        "outputId": "7dc13d29-a6e6-47e2-df7c-399fea918ec4"
      },
      "source": [
        "from functools import reduce\n",
        "from math import gcd\n",
        "\n",
        "def lcm(x,y): # 최소공배수 구하는 함수\n",
        "  lcm = x*y/gcd(x,y)\n",
        "  return int(lcm)    \n",
        "\n",
        "num=reduce(lambda x,y:lcm(x,y),range(1,21))  # reduce() 집계 함수로 1~20까지 곱한 후 최대공약수로 나누는 최소공배수 함수를 적용.\n",
        "print(num) "
      ],
      "execution_count": 5,
      "outputs": [
        {
          "output_type": "stream",
          "text": [
            "232792560\n"
          ],
          "name": "stdout"
        }
      ]
    }
  ]
}