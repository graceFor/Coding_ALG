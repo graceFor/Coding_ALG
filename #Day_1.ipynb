{
  "nbformat": 4,
  "nbformat_minor": 0,
  "metadata": {
    "colab": {
      "name": "#1.ipynb",
      "provenance": [],
      "collapsed_sections": [],
      "authorship_tag": "ABX9TyOyWqrX076dFjpvPp6apGzE",
      "include_colab_link": true
    },
    "kernelspec": {
      "name": "python3",
      "display_name": "Python 3"
    },
    "accelerator": "GPU"
  },
  "cells": [
    {
      "cell_type": "markdown",
      "metadata": {
        "id": "view-in-github",
        "colab_type": "text"
      },
      "source": [
        "<a href=\"https://colab.research.google.com/github/gusrud12/Coding_ALG/blob/master/%23Day_1.ipynb\" target=\"_parent\"><img src=\"https://colab.research.google.com/assets/colab-badge.svg\" alt=\"Open In Colab\"/></a>"
      ]
    },
    {
      "cell_type": "markdown",
      "metadata": {
        "id": "Ev2mObp9WMCB",
        "colab_type": "text"
      },
      "source": [
        "# 1. 1000보다 작은 자연수 중에서 3 또는 5의 배수를 모두 더하면?\n",
        "\n",
        "10보다 작은 자연수 중에서 3 또는 5의 배수는 3, 5, 6, 9 이고, 이것을 모두 더하면 23입니다.\n",
        "\n",
        "1000보다 작은 자연수 중에서 3 또는 5의 배수를 모두 더하면 얼마일까요?"
      ]
    },
    {
      "cell_type": "code",
      "metadata": {
        "id": "QlQjsEMNWZDK",
        "colab_type": "code",
        "colab": {
          "base_uri": "https://localhost:8080/",
          "height": 34
        },
        "outputId": "2f89c2dc-2b58-4325-85d9-9d5a2adce010"
      },
      "source": [
        "import sys\n",
        "sys.version\n"
      ],
      "execution_count": 3,
      "outputs": [
        {
          "output_type": "execute_result",
          "data": {
            "text/plain": [
              "'3.6.9 (default, Apr 18 2020, 01:56:04) \\n[GCC 8.4.0]'"
            ]
          },
          "metadata": {
            "tags": []
          },
          "execution_count": 3
        }
      ]
    },
    {
      "cell_type": "code",
      "metadata": {
        "id": "iT6UnW-hVwZa",
        "colab_type": "code",
        "colab": {
          "base_uri": "https://localhost:8080/",
          "height": 34
        },
        "outputId": "9fe4f384-62ad-4632-9265-48a7d4cd0de0"
      },
      "source": [
        "sum = 0\n",
        "for i in range(1000):\n",
        "    if (i %3 == 0 or i % 5 ==0):\n",
        "        sum += i\n",
        "\n",
        "print(sum)"
      ],
      "execution_count": 6,
      "outputs": [
        {
          "output_type": "stream",
          "text": [
            "233168\n"
          ],
          "name": "stdout"
        }
      ]
    },
    {
      "cell_type": "markdown",
      "metadata": {
        "colab_type": "text",
        "id": "HK2sV8POj049"
      },
      "source": [
        "# 2. 피보나치 수열에서 4백만 이하이면서 짝수인 항의 합\n",
        "\n",
        "피보나치 수열의 각 항은 바로 앞의 항 두 개를 더한 것이 됩니다. 1과 2로 시작하는 경우 이 수열은 아래와 같습니다.\n",
        "\n",
        "1, 2, 3, 5, 8, 13, 21, 34, 55, 89, ...\n",
        "\n",
        "짝수이면서 4백만 이하인 모든 항을 더하면 얼마가 됩니까?"
      ]
    },
    {
      "cell_type": "code",
      "metadata": {
        "id": "zPFXhMMZj_Gc",
        "colab_type": "code",
        "colab": {
          "base_uri": "https://localhost:8080/",
          "height": 34
        },
        "outputId": "314a0a95-8c1c-4200-e030-11cc5c1f64fe"
      },
      "source": [
        "sum = 0\n",
        "num1 =0\n",
        "num2 = 1\n",
        "result=0\n",
        "\n",
        "while result<=4000000:\n",
        "    result= num1+num2\n",
        "    if result % 2 == 0:\n",
        "        sum += result\n",
        "    num1 = num2\n",
        "    num2 = result\n",
        "    \n",
        "print(sum)"
      ],
      "execution_count": 15,
      "outputs": [
        {
          "output_type": "stream",
          "text": [
            "4613732\n"
          ],
          "name": "stdout"
        }
      ]
    }
  ]
}