{
  "nbformat": 4,
  "nbformat_minor": 0,
  "metadata": {
    "colab": {
      "name": "Untitled7.ipynb",
      "provenance": [],
      "authorship_tag": "ABX9TyNn0yw4IdtqgQDeMukKdASE",
      "include_colab_link": true
    },
    "kernelspec": {
      "name": "python3",
      "display_name": "Python 3"
    }
  },
  "cells": [
    {
      "cell_type": "markdown",
      "metadata": {
        "id": "view-in-github",
        "colab_type": "text"
      },
      "source": [
        "<a href=\"https://colab.research.google.com/github/gusrud12/Coding_ALG/blob/master/Day_9.ipynb\" target=\"_parent\"><img src=\"https://colab.research.google.com/assets/colab-badge.svg\" alt=\"Open In Colab\"/></a>"
      ]
    },
    {
      "cell_type": "markdown",
      "metadata": {
        "id": "9GjYCIGKbUnm",
        "colab_type": "text"
      },
      "source": [
        "# 11. 1001×1001 나선모양 행렬에서 대각선 원소의 합은?\n",
        "\n",
        "숫자 1부터 시작해서 우측으로부터 시계방향으로 감아 5×5 행렬을 만들면 아래와 같이 됩니다.\n",
        "\n",
        "21 22 23 24 25\n",
        "\n",
        "20  7  8  9 10\n",
        "\n",
        "19  6  1  2 11\n",
        "\n",
        "18  5  4  3 12\n",
        "\n",
        "17 16 15 14 13\n",
        "\n",
        "여기서 대각선상의 숫자를 모두 더한 값은 101 입니다.\n",
        "\n",
        "같은 방식으로 1001×1001 행렬을 만들었을 때, 대각선상의 숫자를 더하면 얼마가 됩니까?\n",
        "\n"
      ]
    },
    {
      "cell_type": "code",
      "metadata": {
        "id": "w_KwYK8XbTMS",
        "colab_type": "code",
        "outputId": "61e0f1c0-1452-462f-c16e-abccd8a9bf00",
        "colab": {
          "base_uri": "https://localhost:8080/",
          "height": 34
        }
      },
      "source": [
        "n=1001;total=0\n",
        "for i in range(1,n+1,2):\n",
        "    value=pow(i,2)\n",
        "    if i>1:\n",
        "        total=total+value*4-(i-1)*6\n",
        "    else:\n",
        "        total+=i\n",
        "print(total)"
      ],
      "execution_count": 3,
      "outputs": [
        {
          "output_type": "stream",
          "text": [
            "669171001\n"
          ],
          "name": "stdout"
        }
      ]
    }
  ]
}